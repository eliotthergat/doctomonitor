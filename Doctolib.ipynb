{
  "nbformat": 4,
  "nbformat_minor": 0,
  "metadata": {
    "colab": {
      "name": "Doctolib.ipynb",
      "provenance": []
    },
    "kernelspec": {
      "name": "python3",
      "display_name": "Python 3"
    },
    "language_info": {
      "name": "python"
    }
  },
  "cells": [
    {
      "cell_type": "code",
      "execution_count": 56,
      "metadata": {
        "id": "1dVDkw-NmlK5"
      },
      "outputs": [],
      "source": [
        "import urllib.request, urllib.error, urllib.parse\n",
        "import requests\n",
        "import time\n",
        "from bs4 import BeautifulSoup\n",
        "from tqdm import tqdm\n",
        "import random"
      ]
    },
    {
      "cell_type": "code",
      "source": [
        "main_url = \"https://www.doctolib.fr/dentiste/paris-75012?page=\"\n",
        "request_list = [\n",
        "\t{\"url\":\"https://www.doctolib.fr/blanchiment-des-dents/paris-75012?page=\", \"address\":\"Paris 12\", \"requete\": \"Blanchiment dentaire\"},\n",
        "  {\"url\":\"https://www.doctolib.fr/dentiste/paris-75012?page=\", \"address\":\"Paris 12\", \"requete\": \"Dentiste\"},\n",
        "  {\"url\":\"https://www.doctolib.fr/facette-dentaire/paris-75012?page=\", \"address\":\"Paris 12\", \"requete\": \"Facette dentaire\"},\n",
        "  {\"url\":\"https://www.doctolib.fr/resurfacage/paris-75012?page=\", \"address\":\"Paris 12\", \"requete\": \"Surfaçage\"},\n",
        "  {\"url\":\"https://www.doctolib.fr/parodontiste/paris-75012?page=\", \"address\":\"Paris 12\", \"requete\": \"Parodontie\"},\n",
        "  {\"url\":\"https://www.doctolib.fr/parodontite/paris-75012?page=\", \"address\":\"Paris 12\", \"requete\": \"Parodontite\"},\n",
        "  {\"url\":\"https://www.doctolib.fr/gingivite/paris-75012?page=\", \"address\":\"Paris 12\", \"requete\": \"Gingivite\"},\n",
        "  {\"url\":\"https://www.doctolib.fr/freinectomie/paris-75012?page=\", \"address\":\"Paris 12\", \"requete\": \"Freinectomie\"},\n",
        "  {\"url\":\"https://www.doctolib.fr/couronne-dentaire/paris-75012?page=\", \"address\":\"Paris 12\", \"requete\": \"Couronne dentaire\"},\n",
        "  {\"url\":\"https://www.doctolib.fr/bruxisme/paris-75012?page=\", \"address\":\"Paris 12\", \"requete\": \"Bruxisme\"},\n",
        "  {\"url\":\"https://www.doctolib.fr/gouttiere-dentaire/paris-75012?page=\", \"address\":\"Paris 12\", \"requete\": \"Gouttière dentaire\"},\n",
        "  {\"url\":\"https://www.doctolib.fr/chirurgie-des-dents-de-sagesse/paris-75012?page=\", \"address\":\"Paris 12\", \"requete\": \"Chirurgie des dents de sagesse\"},\n",
        "  {\"url\":\"https://www.doctolib.fr/carie-dentaire/paris-75012?page=\", \"address\":\"Paris 12\", \"requete\": \"Carie\"},\n",
        "  {\"url\":\"https://www.doctolib.fr/protheses-dentaires-fixes-ou-amovibles/paris-75012?page=\", \"address\":\"Paris 12\", \"requete\": \"Prothèse dentaire fixe ou amovible\"},\n",
        "  {\"url\":\"https://www.doctolib.fr/extraction-dentaire/paris-75012?page=\", \"address\":\"Paris 12\", \"requete\": \"Extraction dentaire\"},\n",
        "  {\"url\":\"https://www.doctolib.fr/alignement-dentaire-invisible/paris-75012?page=\", \"address\":\"Paris 12\", \"requete\": \"Alignement dentaire invisible\"},\n",
        "  {\"url\":\"https://www.doctolib.fr/prothese-sur-implant/paris-75012?page=\", \"address\":\"Paris 12\", \"requete\": \"Prothèse sur implant\"}\n",
        "]\n",
        "debug = False"
      ],
      "metadata": {
        "id": "jXyoWFlymoQA",
        "colab": {
          "base_uri": "https://localhost:8080/"
        },
        "outputId": "5c229bfd-bd0a-40b3-a719-12dea1950865"
      },
      "execution_count": 61,
      "outputs": [
        {
          "output_type": "execute_result",
          "data": {
            "text/plain": [
              "10"
            ]
          },
          "metadata": {},
          "execution_count": 61
        }
      ]
    },
    {
      "cell_type": "code",
      "source": [
        "def finder_on_page(url_to_parse):\n",
        "    position = 0\n",
        "    counter = 0\n",
        "    for link in url_to_parse.find_all(\"a\", {\"class\": \"dl-search-result-name\"}):\n",
        "        if debug == True:\n",
        "          print(link.get('href'))\n",
        "        if link.get('href') != \"/dentiste/paris/phoebe-kamioner-chelles\":\n",
        "            counter = counter + 1\n",
        "        else:\n",
        "            counter = counter + 1\n",
        "            position = counter\n",
        "            return position\n",
        "\n",
        "def page_downloader(url_to_download):\n",
        "    html_text = requests.get(url_to_download).text\n",
        "    soup = BeautifulSoup(html_text, 'html.parser')\n",
        "    return soup\n",
        "\n",
        "def finder_multiple_pages(main_url): \n",
        "    main_counter = 0\n",
        "    page = 1\n",
        "    while main_counter == 0:\n",
        "        url_to_parse = main_url + str(page)\n",
        "        html = page_downloader(url_to_parse)\n",
        "        on_page = finder_on_page(html)\n",
        "        if on_page != None:\n",
        "          main_counter = on_page + ((page - 1) * 10)\n",
        "        if debug == True:\n",
        "          print(main_counter)\n",
        "        page = page + 1\n",
        "        time.sleep(random.randrange(2, 10))\n",
        "        if page == 11:\n",
        "          main_counter = 100\n",
        "          return main_counter\n",
        "    return main_counter"
      ],
      "metadata": {
        "id": "E8A_zFnfmuV_"
      },
      "execution_count": 83,
      "outputs": []
    },
    {
      "cell_type": "code",
      "source": [
        "finder_multiple_pages(main_url)"
      ],
      "metadata": {
        "colab": {
          "base_uri": "https://localhost:8080/"
        },
        "id": "zepJ-4FIm1f5",
        "outputId": "2db549d5-6e39-4df2-d1a5-de5620de05bc"
      },
      "execution_count": 73,
      "outputs": [
        {
          "output_type": "execute_result",
          "data": {
            "text/plain": [
              "72"
            ]
          },
          "metadata": {},
          "execution_count": 73
        }
      ]
    },
    {
      "cell_type": "code",
      "source": [
        "def finder_multiple_request(list_of_requests):\n",
        "  for i in tqdm(list_of_requests):\n",
        "    result = finder_multiple_pages(i[\"url\"])\n",
        "    print(i[\"requete\"], i[\"address\"], \" : \", result)"
      ],
      "metadata": {
        "id": "CTsfKK3dCJnQ"
      },
      "execution_count": 81,
      "outputs": []
    },
    {
      "cell_type": "code",
      "source": [
        "finder_multiple_request(request_list)"
      ],
      "metadata": {
        "colab": {
          "base_uri": "https://localhost:8080/"
        },
        "id": "H-KWcx4NEh2g",
        "outputId": "34a4a155-4929-438d-e197-7513f7cc330a"
      },
      "execution_count": null,
      "outputs": [
        {
          "output_type": "stream",
          "name": "stderr",
          "text": [
            "  6%|▌         | 1/17 [00:23<06:14, 23.38s/it]"
          ]
        },
        {
          "output_type": "stream",
          "name": "stdout",
          "text": [
            "Blanchiment dentaire Paris 12  :  24\n"
          ]
        },
        {
          "output_type": "stream",
          "name": "stderr",
          "text": [
            "\r 12%|█▏        | 2/17 [00:33<03:51, 15.42s/it]"
          ]
        },
        {
          "output_type": "stream",
          "name": "stdout",
          "text": [
            "Dentiste Paris 12  :  12\n"
          ]
        },
        {
          "output_type": "stream",
          "name": "stderr",
          "text": [
            "\r 18%|█▊        | 3/17 [00:36<02:19,  9.98s/it]"
          ]
        },
        {
          "output_type": "stream",
          "name": "stdout",
          "text": [
            "Facette dentaire Paris 12  :  3\n"
          ]
        },
        {
          "output_type": "stream",
          "name": "stderr",
          "text": [
            "\r 24%|██▎       | 4/17 [01:50<07:38, 35.26s/it]"
          ]
        },
        {
          "output_type": "stream",
          "name": "stdout",
          "text": [
            "Surfaçage Paris 12  :  100\n"
          ]
        },
        {
          "output_type": "stream",
          "name": "stderr",
          "text": [
            "\r 29%|██▉       | 5/17 [02:59<09:28, 47.39s/it]"
          ]
        },
        {
          "output_type": "stream",
          "name": "stdout",
          "text": [
            "Parodontie Paris 12  :  100\n"
          ]
        },
        {
          "output_type": "stream",
          "name": "stderr",
          "text": [
            "\r 35%|███▌      | 6/17 [03:08<06:15, 34.18s/it]"
          ]
        },
        {
          "output_type": "stream",
          "name": "stdout",
          "text": [
            "Parodontie Paris 12  :  3\n"
          ]
        },
        {
          "output_type": "stream",
          "name": "stderr",
          "text": [
            "\r 41%|████      | 7/17 [04:13<07:23, 44.33s/it]"
          ]
        },
        {
          "output_type": "stream",
          "name": "stdout",
          "text": [
            "Gingivite Paris 12  :  100\n"
          ]
        },
        {
          "output_type": "stream",
          "name": "stderr",
          "text": [
            "\r 47%|████▋     | 8/17 [05:18<07:38, 50.92s/it]"
          ]
        },
        {
          "output_type": "stream",
          "name": "stdout",
          "text": [
            "Freinectomie Paris 12  :  100\n"
          ]
        },
        {
          "output_type": "stream",
          "name": "stderr",
          "text": [
            "\r 53%|█████▎    | 9/17 [06:21<07:16, 54.58s/it]"
          ]
        },
        {
          "output_type": "stream",
          "name": "stdout",
          "text": [
            "Couronne dentaire Paris 12  :  100\n"
          ]
        },
        {
          "output_type": "stream",
          "name": "stderr",
          "text": [
            "\r 59%|█████▉    | 10/17 [06:33<04:51, 41.64s/it]"
          ]
        },
        {
          "output_type": "stream",
          "name": "stdout",
          "text": [
            "Bruxisme Paris 12  :  13\n"
          ]
        },
        {
          "output_type": "stream",
          "name": "stderr",
          "text": [
            "\r 65%|██████▍   | 11/17 [06:37<02:59, 29.94s/it]"
          ]
        },
        {
          "output_type": "stream",
          "name": "stdout",
          "text": [
            "Gouttière dentaire Paris 12  :  6\n"
          ]
        }
      ]
    }
  ]
}